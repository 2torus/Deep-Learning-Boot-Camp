{
 "cells": [
  {
   "cell_type": "markdown",
   "metadata": {},
   "source": [
    "# GPU Computing for Data Scientists\n",
    "#### Using CUDA, Jupyter, PyCUDA, ArrayFire and Thrust\n",
    "\n",
    "\n",
    "https://github.com/QuantScientist/Data-Science-ArrayFire-GPU"
   ]
  },
  {
   "cell_type": "code",
   "execution_count": 1,
   "metadata": {},
   "outputs": [
    {
     "name": "stdout",
     "output_type": "stream",
     "text": [
      "1 device(s) found.\n",
      "Device #0: GeForce GTX 1080\n",
      "<module 'pycuda.driver' from '/usr/local/lib/python2.7/dist-packages/pycuda/driver.pyc'>\n"
     ]
    }
   ],
   "source": [
    "# !pip install pycuda\n",
    "%reset -f\n",
    "import pycuda\n",
    "from pycuda import compiler\n",
    "import pycuda.driver as cuda\n",
    "import numpy\n",
    "import numpy as np\n",
    "\n",
    "from pycuda.compiler import SourceModule\n",
    "\n",
    "cuda.init()\n",
    "print(\"%d device(s) found.\" % cuda.Device.count())           \n",
    "for ordinal in range(cuda.Device.count()):\n",
    "    dev = cuda.Device(ordinal)\n",
    "    print \"Device #%d: %s\" % (ordinal, dev.name())    \n",
    "\n",
    "print cuda"
   ]
  },
  {
   "cell_type": "markdown",
   "metadata": {
    "collapsed": true
   },
   "source": [
    "## Sigmoid on the GPU"
   ]
  },
  {
   "cell_type": "code",
   "execution_count": 5,
   "metadata": {},
   "outputs": [
    {
     "name": "stdout",
     "output_type": "stream",
     "text": [
      "[[  0.   1.   2.   3.]\n",
      " [  4.   5.   6.   7.]\n",
      " [  8.   9.  10.  11.]\n",
      " [ 12.  13.  14.  15.]]\n"
     ]
    }
   ],
   "source": [
    "# %%writefile xxx.py\n",
    "import pycuda.autoinit\n",
    "\n",
    "a = numpy.random.randn(4,4)\n",
    "a = a.astype(numpy.float32)\n",
    "\n",
    "a_gpu = cuda.mem_alloc(a.nbytes)\n",
    "\n",
    "cuda.memcpy_htod(a_gpu, a)\n",
    "\n",
    "mod = SourceModule(\"\"\"\n",
    "  #include <stdio.h>\n",
    "  \n",
    "  __global__ void sigmoid(float *a)\n",
    "  {\n",
    "    int idx = threadIdx.x + threadIdx.y*4;\n",
    "    a[idx] =idx;\n",
    "    //printf(\"indice x: %d, indice y: %d\\\\n\", threadIdx.x, threadIdx.y);\n",
    "  }\n",
    "  \"\"\")\n",
    "\n",
    "# ForwardSigmoid = SourceModule(\"\"\"\n",
    "# \t__global__ void sigmoid(float *s, float *xout)\n",
    "#     {\n",
    "# \t// this applies the sigmoid function\n",
    "# \txout[threadIdx.x] = (1 - exp(-2*s[threadIdx.x])) / (1 + exp(-2*s[threadIdx.x]));\n",
    "#     }\n",
    "#     \"\"\")\n",
    "  \n",
    "func = mod.get_function(\"sigmoid\")\n",
    "func(a_gpu, block=(8,4,1))\n",
    "\n",
    "a_sigmoid = numpy.empty_like(a)\n",
    "cuda.memcpy_dtoh(a_sigmoid, a_gpu)\n",
    "print a_sigmoid"
   ]
  },
  {
   "cell_type": "code",
   "execution_count": 6,
   "metadata": {},
   "outputs": [
    {
     "name": "stdout",
     "output_type": "stream",
     "text": [
      "[-10.  -9.  -8.  -7.  -6.  -5.  -4.  -3.  -2.  -1.   0.   1.   2.   3.   4.\n",
      "   5.   6.   7.   8.   9.]\n",
      "20\n",
      "[  4.53978682e-05   1.23394580e-04   3.35350138e-04   9.11051175e-04\n",
      "   2.47262302e-03   6.69285096e-03   1.79862101e-02   4.74258736e-02\n",
      "   1.19202919e-01   2.68941432e-01   5.00000000e-01   7.31058598e-01\n",
      "   8.80797029e-01   9.52574134e-01   9.82013762e-01   9.93307173e-01\n",
      "   9.97527421e-01   9.99089003e-01   9.99664664e-01   9.99876618e-01]\n",
      "__________________________________\n",
      "[  4.53978719e-05   1.23394580e-04   3.35350138e-04   9.11051175e-04\n",
      "   2.47262302e-03   6.69285096e-03   1.79862101e-02   4.74258736e-02\n",
      "   1.19202919e-01   2.68941432e-01   5.00000000e-01   7.31058598e-01\n",
      "   8.80797029e-01   9.52574134e-01   9.82013762e-01   9.93307173e-01\n",
      "   9.97527421e-01   9.99089003e-01   9.99664664e-01   9.99876618e-01]\n"
     ]
    }
   ],
   "source": [
    "import pycuda.autoinit\n",
    "\n",
    "# a = np.random.uniform(low=1, high=20, size=(10,))\n",
    "\n",
    "# a = numpy.random.randn(1,9)\n",
    "a = np.arange(-10, 10, 1)\n",
    "a = a.astype(numpy.float32)\n",
    "print a\n",
    "\n",
    "\n",
    "size = numpy.int32(a.shape[-1])\n",
    "print size \n",
    "\n",
    "a_gpu = cuda.mem_alloc(a.nbytes)\n",
    "xout_gpu = cuda.mem_alloc(a.nbytes)\n",
    "\n",
    "cuda.memcpy_htod(a_gpu, a)\n",
    "xout_gpu=cuda.mem_alloc_like(a)\n",
    "# size_gpu=cuda.mem_alloc_like(size)\n",
    "\n",
    "mod = SourceModule(\"\"\"  \n",
    "  \n",
    "  __global__ void sigmoid(float* a, float* b, int size)\n",
    "    {\n",
    "        int index = blockDim.x * blockIdx.x + threadIdx.x;\n",
    "        if (index < size)\n",
    "            b[index] = 1.0f / (1.0f + exp(-1.0f * a[index]));\n",
    "    }\n",
    "  \"\"\")\n",
    "\n",
    "# s_gpu=size.astype(numpy.int32)\n",
    "\n",
    "func = mod.get_function(\"sigmoid\")\n",
    "func(a_gpu, xout_gpu,size, block=(20,1,1))\n",
    "\n",
    "a_sigmoid = numpy.empty_like(a)\n",
    "cuda.memcpy_dtoh(a_sigmoid, xout_gpu)\n",
    "print a_sigmoid\n",
    "\n",
    "from scipy.special import expit\n",
    "y = expit(a)\n",
    "print (\"__________________________________\")\n",
    "print y"
   ]
  },
  {
   "cell_type": "code",
   "execution_count": 7,
   "metadata": {},
   "outputs": [
    {
     "data": {
      "image/png": "[encoded data removed]",
      "text/plain": [
       "<matplotlib.figure.Figure at 0x7f28b7429650>"
      ]
     },
     "metadata": {},
     "output_type": "display_data"
    }
   ],
   "source": [
    "import matplotlib.pyplot as plt\n",
    "\n",
    "plt.plot(a,a_sigmoid)\n",
    "plt.text(4,0.8,r'$\\sigma(x)=\\frac{1}{1+e^{-x}}$',fontsize=15)\n",
    "plt.legend(loc='lower right')\n",
    "plt.show()"
   ]
  },
  {
   "cell_type": "code",
   "execution_count": null,
   "metadata": {
    "collapsed": true
   },
   "outputs": [],
   "source": []
  },
  {
   "cell_type": "code",
   "execution_count": null,
   "metadata": {
    "collapsed": true
   },
   "outputs": [],
   "source": []
  }
 ],
 "metadata": {
  "kernelspec": {
   "display_name": "Python 2",
   "language": "python",
   "name": "python2"
  },
  "language_info": {
   "codemirror_mode": {
    "name": "ipython",
    "version": 2
   },
   "file_extension": ".py",
   "mimetype": "text/x-python",
   "name": "python",
   "nbconvert_exporter": "python",
   "pygments_lexer": "ipython2",
   "version": "2.7.12"
  }
 },
 "nbformat": 4,
 "nbformat_minor": 2
}
