{
 "cells": [
  {
   "cell_type": "markdown",
   "metadata": {},
   "source": [
    "### GPU Computing for Data Scientists\n",
    "#### Using CUDA, Jupyter, PyCUDA, ArrayFire and Thrust\n",
    "\n",
    "\n",
    "https://github.com/QuantScientist/Data-Science-ArrayFire-GPU"
   ]
  },
  {
   "cell_type": "code",
   "execution_count": 1,
   "metadata": {
    "collapsed": true
   },
   "outputs": [],
   "source": [
    "import pycuda\n",
    "from pycuda import compiler\n",
    "import pycuda.driver as drv"
   ]
  },
  {
   "cell_type": "code",
   "execution_count": null,
   "metadata": {},
   "outputs": [],
   "source": [
    "drv.init()\n",
    "print(\"%d device(s) found.\" % drv.Device.count())\n",
    "           \n",
    "for ordinal in range(drv.Device.count()):\n",
    "    dev = drv.Device(ordinal)\n",
    "    print \"Device #%d: %s\" % (ordinal, dev.name())\n",
    "    print \"  Compute Capability: %d.%d\" % dev.compute_capability()\n",
    "    print \"  Total Memory: %s KB\" % (dev.total_memory()//(1024))\n",
    "    atts = [(str(att), value) \n",
    "            for att, value in dev.get_attributes().iteritems()]\n",
    "    atts.sort()\n",
    "  \n",
    "    for att, value in atts:\n",
    "        print \"  %s: %s\" % (att, value)"
   ]
  },
  {
   "cell_type": "code",
   "execution_count": null,
   "metadata": {},
   "outputs": [],
   "source": [
    "import pycuda.autoinit\n",
    "import pycuda.driver as cuda\n",
    "\n",
    "(free,total)=cuda.mem_get_info()\n",
    "print(\"Global memory occupancy:%f%% free\"%(free*100/total))\n",
    "\n",
    "for devicenum in range(cuda.Device.count()):\n",
    "    device=cuda.Device(devicenum)\n",
    "    attrs=device.get_attributes()\n",
    "\n",
    "    #Beyond this point is just pretty printing\n",
    "    print(\"\\n===Attributes for device %d\"%devicenum)\n",
    "    for (key,value) in attrs.iteritems():\n",
    "        print(\"%s:%s\"%(str(key),str(value)))"
   ]
  },
  {
   "cell_type": "code",
   "execution_count": null,
   "metadata": {
    "collapsed": true
   },
   "outputs": [],
   "source": []
  }
 ],
 "metadata": {
  "kernelspec": {
   "display_name": "Python 2",
   "language": "python",
   "name": "python2"
  },
  "language_info": {
   "codemirror_mode": {
    "name": "ipython",
    "version": 2
   },
   "file_extension": ".py",
   "mimetype": "text/x-python",
   "name": "python",
   "nbconvert_exporter": "python",
   "pygments_lexer": "ipython2",
   "version": "2.7.12"
  }
 },
 "nbformat": 4,
 "nbformat_minor": 2
}
